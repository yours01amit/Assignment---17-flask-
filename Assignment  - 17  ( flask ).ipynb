{
 "cells": [
  {
   "cell_type": "markdown",
   "id": "c7840c0e",
   "metadata": {},
   "source": [
    "**Q1. What is Flask Framework? What are the advantages of Flask Framework?"
   ]
  },
  {
   "cell_type": "markdown",
   "id": "fd723d8b",
   "metadata": {},
   "source": [
    "Ans:Flask is a micro web framework written in Python. It is designed to be lightweight, flexible, and easy to use, making it a popular choice for developing small to medium-sized web applications.\n",
    "\n",
    "Here are some advantages of Flask Framework:\n",
    "\n",
    "Lightweight: Flask is a micro web framework and doesn't require particular tools or libraries. This makes it lightweight and easy to use.\n",
    "\n",
    "Flexibility: Flask is designed to be modular and extensible. This means that you can add new features and functionality as you need them, without having to rewrite your entire application.\n",
    "\n",
    "Easy to learn: Flask is a simple and easy-to-learn framework. Its syntax is easy to understand and the documentation is clear and concise.\n",
    "\n",
    "Large Community: Flask has a large and active community of developers, which means that there is a wealth of resources available online, including documentation, tutorials, and third-party packages.\n",
    "\n",
    "Built-in Development Server: Flask comes with a built-in development server, which makes it easy to test your application as you develop it.\n",
    "\n",
    "Compatibility: Flask is compatible with different platforms and can be deployed in different environments.\n",
    "\n",
    "Overall, Flask is a great choice for developers who want to build small to medium-sized web applications quickly and easily, without having to learn a lot of complex concepts or tools."
   ]
  },
  {
   "cell_type": "markdown",
   "id": "9936cf15",
   "metadata": {},
   "source": [
    "**Q2. Create a simple Flask application to display ‘Hello World!!’. Attach the screenshot of the             output in Jupyter Notebook."
   ]
  },
  {
   "cell_type": "code",
   "execution_count": null,
   "id": "fa74d100",
   "metadata": {},
   "outputs": [
    {
     "name": "stdout",
     "output_type": "stream",
     "text": [
      " * Serving Flask app '__main__'\n",
      " * Debug mode: off\n"
     ]
    },
    {
     "name": "stderr",
     "output_type": "stream",
     "text": [
      "WARNING: This is a development server. Do not use it in a production deployment. Use a production WSGI server instead.\n",
      " * Running on all addresses (0.0.0.0)\n",
      " * Running on http://127.0.0.1:5000\n",
      " * Running on http://192.168.5.21:5000\n",
      "Press CTRL+C to quit\n",
      "127.0.0.1 - - [24/Mar/2023 14:13:16] \"GET / HTTP/1.1\" 200 -\n"
     ]
    }
   ],
   "source": [
    "from flask import Flask\n",
    "\n",
    "app = Flask(__name__)\n",
    "\n",
    "@app.route(\"/\")\n",
    "def hello_world():\n",
    "    return '<h1>Hello World!!</h1>'\n",
    "\n",
    "if __name__==\"__main__\":\n",
    "    app.run(host=\"0.0.0.0\")"
   ]
  },
  {
   "cell_type": "markdown",
   "id": "245afc8a",
   "metadata": {},
   "source": [
    "![](Screenshot_amit.jpg)"
   ]
  },
  {
   "attachments": {},
   "cell_type": "markdown",
   "id": "a5fa1792",
   "metadata": {},
   "source": [
    "<img src=\"Screenshot_amit.jpg\">"
   ]
  },
  {
   "cell_type": "markdown",
   "id": "c7833722",
   "metadata": {},
   "source": [
    "**Q3. What is App routing in Flask? Why do we use app routes?"
   ]
  },
  {
   "cell_type": "markdown",
   "id": "cef22f24",
   "metadata": {},
   "source": [
    "Ans:In Flask, an app route is a URL pattern that is associated with a Python function, known as a view function. When a user navigates to a particular URL on the web application, the Flask app matches that URL to the corresponding app route and calls the associated view function, which generates a response that is sent back to the user's web browser.\n",
    "\n",
    "App routes are used in Flask to define the different pages and functionality of a web application. By mapping URLs to specific view functions, app routes allow users to navigate through the application and interact with its different features. For example, an app route could be used to define the home page of a web application, a login page, or a page for displaying a user's profile information.\n",
    "\n",
    "App routes also allow for dynamic URL generation, where parts of the URL are variable and can be passed as arguments to the view function. This is useful for creating routes that display specific content based on user input or database queries.\n",
    "\n",
    "In summary, app routing is a fundamental concept in Flask that is used to define the different pages and functionality of a web application, and to map URLs to specific view functions."
   ]
  },
  {
   "cell_type": "markdown",
   "id": "dcf9eab4",
   "metadata": {},
   "source": [
    "**Q4. Create a “/welcome” route to display the welcome message “Welcome to ABC Corporation” and a “/” route to show the following details:\n",
    "\n",
    "Company Name: ABC Corporation\n",
    "Location: India\n",
    "Contact Detail: 999-999-9999"
   ]
  },
  {
   "cell_type": "code",
   "execution_count": null,
   "id": "828657c8",
   "metadata": {},
   "outputs": [
    {
     "name": "stdout",
     "output_type": "stream",
     "text": [
      " * Serving Flask app '__main__'\n",
      " * Debug mode: off\n"
     ]
    },
    {
     "name": "stderr",
     "output_type": "stream",
     "text": [
      "WARNING: This is a development server. Do not use it in a production deployment. Use a production WSGI server instead.\n",
      " * Running on all addresses (0.0.0.0)\n",
      " * Running on http://127.0.0.1:5000\n",
      " * Running on http://192.168.5.21:5000\n",
      "Press CTRL+C to quit\n",
      "127.0.0.1 - - [24/Mar/2023 14:22:05] \"GET / HTTP/1.1\" 200 -\n"
     ]
    }
   ],
   "source": [
    "from flask import Flask\n",
    "\n",
    "app = Flask(__name__)\n",
    "\n",
    "@app.route(\"/\")\n",
    "def company_details():\n",
    "    return \"<h2>Company Name: ABC Corporation</h2><br><h2>Location: India</h2><br><h2>Contact Detail: 999-999-9999</h2>\"\n",
    "\n",
    "@app.route(\"/welcome\")\n",
    "def welcome_message():\n",
    "    return \"<h1>Welcome to ABC Corporation</h1>\"\n",
    "\n",
    "if __name__ == \"__main__\":\n",
    "    app.run(host = \"0.0.0.0\")"
   ]
  },
  {
   "cell_type": "markdown",
   "id": "9bcf05d6",
   "metadata": {},
   "source": [
    "<img src=\"Screenshot 2023-03-24 142223.png\">"
   ]
  },
  {
   "cell_type": "markdown",
   "id": "7c13d303",
   "metadata": {},
   "source": [
    "**Q5. What function is used in Flask for URL Building? Write a Python code to         demonstrate the working of the url_for() function.\n",
    "\n",
    "Ans:In Flask, the url_for() function is used for URL building. This function takes the endpoint name and any arguments and returns a URL to that endpoint. The url_for() function is useful because it generates URLs based on the routes defined in the application, which ensures that the URLs are consistent and will continue to work even if the URL scheme changes.\n",
    "\n",
    "Here's an example of how to use the url_for() function in Flask:"
   ]
  },
  {
   "cell_type": "code",
   "execution_count": 2,
   "id": "e2c68380",
   "metadata": {},
   "outputs": [
    {
     "name": "stdout",
     "output_type": "stream",
     "text": [
      "/\n",
      "/login\n",
      "/login?next=%2F\n",
      "/user/Amit\n"
     ]
    }
   ],
   "source": [
    "from flask import Flask, url_for\n",
    "\n",
    "app = Flask(__name__)\n",
    "\n",
    "@app.route('/')\n",
    "def index():\n",
    "    return 'This is the homepage.'\n",
    "\n",
    "@app.route('/user/<username>')\n",
    "def profile(username):\n",
    "    return f'This is the profile page for {username}.'\n",
    "\n",
    "@app.route('/login')\n",
    "def login():\n",
    "    return 'Please log in.'\n",
    "\n",
    "with app.test_request_context():\n",
    "    print(url_for('index'))  # output: '/'\n",
    "    print(url_for('login'))  # output: '/login'\n",
    "    print(url_for('login', next='/'))  # output: '/login?next=%2F'\n",
    "    print(url_for('profile', username='Amit'))  # output: '/user/Amit'"
   ]
  },
  {
   "cell_type": "code",
   "execution_count": null,
   "id": "93e422d5",
   "metadata": {},
   "outputs": [],
   "source": []
  }
 ],
 "metadata": {
  "kernelspec": {
   "display_name": "Python 3 (ipykernel)",
   "language": "python",
   "name": "python3"
  },
  "language_info": {
   "codemirror_mode": {
    "name": "ipython",
    "version": 3
   },
   "file_extension": ".py",
   "mimetype": "text/x-python",
   "name": "python",
   "nbconvert_exporter": "python",
   "pygments_lexer": "ipython3",
   "version": "3.11.0"
  }
 },
 "nbformat": 4,
 "nbformat_minor": 5
}
